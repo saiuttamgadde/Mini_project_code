{
 "cells": [
  {
   "cell_type": "code",
   "execution_count": null,
   "id": "86dc05cd",
   "metadata": {},
   "outputs": [],
   "source": [
    "#Exploratory data analysis\n",
    "\n",
    "import pandas as pd\n",
    "import numpy as np\n",
    "import matplotlib.pyplot as plt\n",
    "import seaborn as sns\n",
    "import warnings\n",
    "warnings.filterwarnings('ignore')\n",
    "\n",
    "data=pd.read_excel('antenna.xlsx')\n",
    "\n",
    "data.head(10)\n",
    "\n",
    "data.isnull().sum()\n",
    "\n",
    "corr=data.corr()\n",
    "\n",
    "plt.figure(figsize=(9,4))\n",
    "sns.heatmap(corr,annot=True)\n",
    "\n",
    "plt.figure(figsize=(16,8))\n",
    "sns.pairplot(data)\n",
    "\n",
    "sns.distplot(data['f'])\n",
    "\n",
    "data.corr()\n",
    "\n",
    "sns.jointplot(x=\"L(mm)\",y=\"W(mm)\",data=data,kind=\"reg\")\n",
    "\n"
   ]
  }
 ],
 "metadata": {
  "kernelspec": {
   "display_name": "Python 3",
   "language": "python",
   "name": "python3"
  },
  "language_info": {
   "codemirror_mode": {
    "name": "ipython",
    "version": 3
   },
   "file_extension": ".py",
   "mimetype": "text/x-python",
   "name": "python",
   "nbconvert_exporter": "python",
   "pygments_lexer": "ipython3",
   "version": "3.8.10"
  }
 },
 "nbformat": 4,
 "nbformat_minor": 5
}
